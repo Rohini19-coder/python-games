{
 "cells": [
  {
   "cell_type": "code",
   "execution_count": null,
   "id": "d3acf13c-43e8-4a5a-919c-599048bbf6f5",
   "metadata": {},
   "outputs": [],
   "source": [
    "print(\"Welcome to my computer quiz!\")\n",
    "\n",
    "playing = input(\"Do you want to play? \")\n",
    "\n",
    "if playing.lower() != \"yes\":\n",
    "    quit()\n",
    "\n",
    "print(\"Okay! Let's play :)\")\n",
    "score = 0\n",
    "\n",
    "answer = input(\"What does ISRO stand for? \")\n",
    "if answer.lower() == \"indian space research organisation\":\n",
    "    print('Correct!')\n",
    "    score += 1\n",
    "else:\n",
    "    print(\"Incorrect!\")\n",
    "\n",
    "answer = input(\"What does IPS stand for? \")\n",
    "if answer.lower() == \"indian police service\":\n",
    "    print('Correct!')\n",
    "    score += 1\n",
    "else:\n",
    "    print(\"Incorrect!\")\n",
    "\n",
    "answer = input(\"What does VITW stand for? \")\n",
    "if answer.lower() == \"vijaya institute of technology for women\":\n",
    "    print('Correct!')\n",
    "    score += 1\n",
    "else:\n",
    "    print(\"Incorrect!\")\n",
    "\n",
    "answer = input(\"What does IAS stand for? \")\n",
    "if answer.lower() == \"indian administrative service\":\n",
    "    print('Correct!')\n",
    "    score += 1\n",
    "else:\n",
    "    print(\"Incorrect!\")\n",
    "\n",
    "print(\"You got \" + str(score) + \" questions correct!\")\n",
    "print(\"You got \" + str((score / 4) * 100) + \"%.\")"
   ]
  }
 ],
 "metadata": {
  "kernelspec": {
   "display_name": "Python [conda env:base] *",
   "language": "python",
   "name": "conda-base-py"
  },
  "language_info": {
   "codemirror_mode": {
    "name": "ipython",
    "version": 3
   },
   "file_extension": ".py",
   "mimetype": "text/x-python",
   "name": "python",
   "nbconvert_exporter": "python",
   "pygments_lexer": "ipython3",
   "version": "3.12.7"
  }
 },
 "nbformat": 4,
 "nbformat_minor": 5
}
